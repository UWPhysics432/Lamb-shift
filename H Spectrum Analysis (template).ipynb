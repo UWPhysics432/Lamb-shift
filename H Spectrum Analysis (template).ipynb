{
 "cells": [
  {
   "cell_type": "markdown",
   "metadata": {},
   "source": [
    "# Individual Analysis for the Hydrogen Laser Spectroscopy Experiment\n",
    "\n",
    "Use this template to carry out the analysis tasks for the experiment.  You may need to consult the documentation for different Python packages.  Also recommended: the [Whirlwind Tour of Python](https://jakevdp.github.io/WhirlwindTourOfPython/) and the [Python Data Science Handbook](https://jakevdp.github.io/PythonDataScienceHandbook/) both by Jake VanderPlas.\n",
    "\n",
    "We will also be using [**LMFit**](https://lmfit.github.io/lmfit-py/) for curve fitting \n",
    "and the [Uncertainties](https://pythonhosted.org/uncertainties/) package for calculating statistical uncertainty. "
   ]
  },
  {
   "cell_type": "code",
   "execution_count": null,
   "metadata": {},
   "outputs": [],
   "source": [
    "# Run this cell with Shift-Enter, and wait until the asterisk changes to a number, i.e., [*] becomes [1]\n",
    "import numpy as np\n",
    "import scipy.constants as const\n",
    "import uncertainties as unc\n",
    "import uncertainties.unumpy as up\n",
    "import matplotlib.pyplot as plt\n",
    "import pandas as pd\n",
    "%matplotlib inline"
   ]
  },
  {
   "cell_type": "code",
   "execution_count": null,
   "metadata": {},
   "outputs": [],
   "source": [
    "# Set up plot defaults\n",
    "import matplotlib as mpl\n",
    "mpl.rcParams['figure.figsize'] = 11.0,8.0  # Roughly 11 cm wde by 8 cm high\n",
    "mpl.rcParams['font.size'] = 12.0 # Use 12 point font"
   ]
  },
  {
   "cell_type": "markdown",
   "metadata": {},
   "source": [
    "## Summary of tasks\n",
    "\n",
    "### Prior to working on this notebook\n",
    "\n",
    "1. Work out exercises 1, 2 and 10.  These concern the Balmer-$\\alpha$ wavelength, the term diagram of the $n=2$ to $n=3$ transitions and selection rules, and the overall layout of Doppler-free beam-crosssing method of laser spectrosopy.\n",
    "\n",
    "\n",
    "2. Obtain chart-recorder scans for the two hydrogen spectrum data runs (one for \"left-to-right\" scan, i.e., decreasing wavelength, the other for \"right-to-left\", or increasing wavelength).\n",
    "\n",
    "\n",
    "3. Extract from each scan the positions in scan units (voltage or paper grid) of (1) the peaks in the Fabry-Perot (F-P) mirror output, and (2) positions of the 5 obvious peaks in the probe-beam measurement. Positions should be estimated to at least three significant figures in the measurement unit.  The F-P peak positions do not need uncertainties, but you should assign an uncertainty to the prob-beam peak positions.\n",
    "\n",
    "\n",
    "4. Obtain the Fabry-Perot mirror separation measurements.  You should have 6-8 separate measurements to average.\n",
    "\n",
    "\n",
    "5. Create spreadsheets with these data to be read into the notebook for further processing.  Recommended: one .xlsx file with 5 tabs (worksheets), or 5 separate .csv files, one for the mirror measurements and one for each set of peak position measurements.  Read them in with either Pandas `read_csv()` or `read_excel()`.\n",
    "\n",
    "\n",
    "### Tasks for this notebook\n",
    "\n",
    "Convert the mirror separation measurements to meters and calculate the separation with its uncertainty (\"standard deviation of the mean\").  Then calculate the free spectral range in MHz with uncertainty. \n",
    "\n",
    "For each scan:\n",
    "\n",
    "<blockquote>\n",
    "Plot the F-P peak index (y-axis) versus its position (x-axis).  Fit this to a 3rd-order polynomial to produce calibration coefficients.\n",
    "\n",
    "Create a calibration function that takes XY recorder positions and returns position in FSR units (relative to an arbitrary origin).\n",
    "\n",
    "Use the calibration function to convert probe-beam peak positions to positions in FSR units. Incorporate the uncertainty in the probe-beam peak positions to get uncertainty in FSR units.  \n",
    "\n",
    "Convert the FSR units to frequency using the free spectral range, including uncertaities.\n",
    "\n",
    "Finally, calculate the frequency separations requested, among them the \"Lamb shift\" which is the difference between the 2S<sub>1/2</sub>-3P<sub>3/2</sub> and 2P<sub>1/2</sub>-3D<sub>3/2</sub> transitions.\n",
    "</blockquote>\n",
    "\n",
    "Once the above has been completed for both scans, combine the results to obtain the the best values for the fine-structure frequency separations, and compare the measurements to the expected values.  (these can be found in the experiment instructions.)"
   ]
  },
  {
   "cell_type": "markdown",
   "metadata": {},
   "source": [
    "## Read in the hydrogen spectrum data\n",
    "\n",
    "You will probably want 5 different DataFrames: (1) Mirror separations, (2) F-P peaks for right-to-left, (3) probe-beam peaks for right-to-left, (4) F-P peaks for left-to-right, and (5) probe-beam peaks for right-to-left.\n",
    "\n",
    "One way to do it is create a different CSV file for each DataFrame.  Another way is to put all 5 Sheets into a single Excel file.  You can read the whole file into a Pandas \"OrderedDict\" with the command \n",
    "\n",
    "    `Hdata = pd.read_excel('Hydrogen_spectrum_data.xlsx', sheet_name = None)`\n",
    "\n",
    "Then each sheet will be in its own DataFrame that you would reference with `Hdata['sheet-name']`."
   ]
  },
  {
   "cell_type": "code",
   "execution_count": null,
   "metadata": {},
   "outputs": [],
   "source": [
    "# Read in the data\n",
    "\n"
   ]
  },
  {
   "cell_type": "code",
   "execution_count": null,
   "metadata": {},
   "outputs": [],
   "source": [
    "# Display it (This helps remember the keys to your columns, etc.)\n",
    "\n"
   ]
  },
  {
   "cell_type": "markdown",
   "metadata": {},
   "source": [
    "##  Mirror separation & Free spectral range\n",
    "\n",
    "If your caliper units are in inches, you will need to convert to meters.  Hint: look up `scipy.constants.inch` in SciPy.\n",
    "\n",
    "Calculate the mean and standard deviation of the mean and save in an uncertainty object.\n",
    "\n",
    "Calculate the free spectral range in Hz (with uncertainty).  Remember, the free spectral range is \n",
    "\n",
    "$$ FSR = \\frac{c}{2d}$$"
   ]
  },
  {
   "cell_type": "code",
   "execution_count": null,
   "metadata": {
    "scrolled": true
   },
   "outputs": [],
   "source": [
    "# Show a table of the mirror separation values\n",
    "\n"
   ]
  },
  {
   "cell_type": "code",
   "execution_count": null,
   "metadata": {},
   "outputs": [],
   "source": [
    "# Calculate the mean, standard deviation, and standard deviation of the mean \n",
    "# of the mirror separation values in meters.\n",
    "\n",
    "FP_sep = \n",
    "FP_sep_stderr = \n",
    "\n",
    "# Build an uncertainty object to hold the mirror separation with its uncertainty.\n",
    "# Print the mirrr separation and uncertainty in cm.\n",
    "\n",
    "uFP_sep = \n",
    "print('Fabry-Perot mirror separation = {:.1uP} cm'.format(uFP_sep/const.centi))\n",
    "\n",
    "# Print the free spectral range in MHz\n",
    "\n",
    "uFSR = \n",
    "print('F-P set free spectral range = {:.1uP} MHz'.format(uFSR/const.mega))"
   ]
  },
  {
   "cell_type": "markdown",
   "metadata": {},
   "source": [
    "## Left-to-right scan analysis\n",
    "\n",
    "### Fit the FP peaks\n",
    "\n",
    "First, make a table of the FP peak locations.\n",
    "\n",
    "Create an array of **indices** of the F-P peak locations. \n",
    "\n",
    "Fit the index array (y-axis) vs. peak locations (x-axis) to a 3rd-order polynomial to obtain calibration constants. "
   ]
  },
  {
   "cell_type": "code",
   "execution_count": null,
   "metadata": {},
   "outputs": [],
   "source": [
    "# The indices of the Pandas DataFrame are given by the attribute 'index'\n",
    "# To get an array with these indices, make a Python list, e.g., 'list(DataFrame.index)'\n",
    "\n"
   ]
  },
  {
   "cell_type": "markdown",
   "metadata": {},
   "source": [
    "Then set up the fitting."
   ]
  },
  {
   "cell_type": "code",
   "execution_count": null,
   "metadata": {},
   "outputs": [],
   "source": [
    "# Use a polynmial of degree=3\n",
    "from lmfit.models import PolynomialModel\n",
    "\n",
    "curve = PolynomialModel(degree=3)\n",
    "\n",
    "# Recommended: Make a function to do the work, with model as a passed object.\n",
    "# The return is the fit parameters structure\n",
    "\n",
    "def poly_fit_and_plot(xdata, ydata, model=PolynomialModel(degree=3)):\n",
    "    '''\n",
    "    Fit a line or curve, and plot/show the fit results.\n",
    "    The function returns a parameters object with the fit parameters\n",
    "    '''\n",
    "    ## Fill in function\n",
    "    return model_fit.params"
   ]
  },
  {
   "cell_type": "markdown",
   "metadata": {},
   "source": [
    "Execute the fitting."
   ]
  },
  {
   "cell_type": "code",
   "execution_count": null,
   "metadata": {
    "scrolled": false
   },
   "outputs": [],
   "source": [
    "# Carry out the fit, show the results, and save the fit parameters\n"
   ]
  },
  {
   "cell_type": "markdown",
   "metadata": {},
   "source": [
    "### Make the calibration function\n",
    "\n",
    "You can use the same method to make the calibration curve as you may have used in the Zeeman effect experiment or Franck-Hertz experiment, e.g., use `eval()` with the fit coefficients."
   ]
  },
  {
   "cell_type": "code",
   "execution_count": null,
   "metadata": {},
   "outputs": [],
   "source": [
    "# Define a calibration function.  Hint: use eval()\n",
    "def cal_LR():\n",
    "  ## Fill in function\n",
    "\n",
    "# Test\n",
    "print(cal_LR(120))"
   ]
  },
  {
   "cell_type": "markdown",
   "metadata": {},
   "source": [
    "### Calculate the spectrum \n",
    "\n",
    "Pull the probe-beam locations and uncertainties from the spreadsheet for the left-to-right scan.  Then apply the calibration function to obtain the peak positions and uncertainties in free-spectral-range units (FSR units), and then apply the free spectral range to obtain the spectrum in Hz (relative to an arbitrary origin).  Put these all into a single table, and diplay it.  (Recommended: Make a Pandas DataFrame.)"
   ]
  },
  {
   "cell_type": "code",
   "execution_count": null,
   "metadata": {},
   "outputs": [],
   "source": [
    "# Make uncertainty array of probe-beam paper-unit locations with uncertainty\n",
    "# Use up.uarray()\n",
    "\n",
    "\n",
    "# Build Pandas DataFrame with spectrum in paper units, FSR units (applying calibration), \n",
    "# MHz (applying free spectral range), and MHz relative to the largest, lowest-frequency peak.\n",
    "Left_Right_spectrum = pd.DataFrame({'Paper': # Your array goes here ,\n",
    "                                    'FSR':   # Your array goes here ,\n",
    "                                    'MHz':   # Your array goes here ,\n",
    "                                    'Rel MHz': # Your array goes here \n",
    "                                   })\n",
    "\n",
    "# Show the table\n",
    "print('Left-to-right scan probe-beam peak locations:')\n",
    "Left_Right_spectrum"
   ]
  },
  {
   "cell_type": "markdown",
   "metadata": {},
   "source": [
    "### Calculate separations\n",
    "\n",
    "Make a table that shows the following separations in MHz (with uncertainty):\n",
    "\n",
    "* The Lamb shift: 2S<sub>1/2</sub> - 3P<sub>3/2</sub> to 2P<sub>1/2</sub> - 3D<sub>3/2</sub> frequency separation (with uncertainty) for both scans.\n",
    "* The 2P<sub>3/2</sub>  - 3D<sub>5/2</sub> to 2P<sub>1/2</sub> - 3D<sub>3/2</sub>  frequency separation, i.e., highest frequency peak to lowest frequency peak (with uncertainty) for both scans.\n",
    "* The 2P<sub>3/2</sub>  - 3D<sub>5/2</sub> to 2S<sub>1/2</sub> - 3P<sub>1/2</sub> frequency separation, i.e., tallest to smallest peak (with uncertaintyl) for both scans.\n"
   ]
  },
  {
   "cell_type": "code",
   "execution_count": null,
   "metadata": {},
   "outputs": [],
   "source": [
    "# Calculate the separations and make a table.\n",
    "# Recommended: Build a DataFrame.  You can use it to add the calculated separations from the \n",
    "# other scan below and then the averages of both to compare to accepted results.\n",
    "\n",
    "# Here is a list of the separation labels\n",
    "seps_list = ['2S1/2-3P3/2 to 2P1/2-3D3/2', '2P3/2-3D5/2 to 2P1/2-3D3/2','2P3/2-3D5/2 to 2S1/2-3P1/2']\n",
    "\n",
    "# Make a list of the separations in MHz\n",
    "LR_list = []\n",
    "\n",
    "# Construct the DataFrame\n",
    "Results = pd.DataFrame({'Separations': seps_list,\n",
    "                            'L-R (MHz)':LR_list})\n",
    "\n",
    "# Display\n",
    "Results"
   ]
  },
  {
   "cell_type": "markdown",
   "metadata": {},
   "source": [
    "## Right-to-left scan analysis\n",
    "\n",
    "Repeat the above process for the right-to-left scan.\n",
    "\n",
    "### Fit the F-P peaks\n",
    "\n",
    "<i>Points will be taken off if you redo tasks (function declarations, imports) that do not need to be redone.</i>"
   ]
  },
  {
   "cell_type": "code",
   "execution_count": null,
   "metadata": {},
   "outputs": [],
   "source": [
    "# Make a table of the F-P peaks, and index array\n",
    "\n"
   ]
  },
  {
   "cell_type": "code",
   "execution_count": null,
   "metadata": {},
   "outputs": [],
   "source": [
    "# Fit to a polynomial of degree=3, and show the results and save the parameters\n",
    "\n"
   ]
  },
  {
   "cell_type": "markdown",
   "metadata": {},
   "source": [
    "### Make the calibration for the R-L scan\n"
   ]
  },
  {
   "cell_type": "code",
   "execution_count": null,
   "metadata": {},
   "outputs": [],
   "source": [
    "# Define and test the calibration function\n",
    "\n",
    "# Test\n"
   ]
  },
  {
   "cell_type": "markdown",
   "metadata": {},
   "source": [
    "### Calculate the spectrum\n",
    "\n",
    "Carry out the calculation and table construction for the right-to-left scan."
   ]
  },
  {
   "cell_type": "code",
   "execution_count": null,
   "metadata": {},
   "outputs": [],
   "source": [
    "# Make uncertainty array of probe-beam paper-unit locations with uncertainty\n",
    "\n",
    "# Build Pandas DataFrame with spectrum in paper units, FSR units (applying calibration), \n",
    "# and MHz (applying free spectral range)\n",
    "\n",
    "\n",
    "# Show the table\n"
   ]
  },
  {
   "cell_type": "markdown",
   "metadata": {},
   "source": [
    "### Calculate separations\n",
    "\n",
    "\n",
    "Calculate the separations for the right-to-left scan.\n",
    "\n",
    "Then include this column in the existing DataFrame so that the results can be directly compared"
   ]
  },
  {
   "cell_type": "code",
   "execution_count": null,
   "metadata": {},
   "outputs": [],
   "source": [
    "# Calculate the separations in the R to L scan, and add a column to the data frame \n",
    "# for separation measurements\n",
    "\n",
    "# Make a list of the separations in MHz\n",
    "\n",
    "# Include it as a column\n",
    "Results['R-L (MHz)'] = []\n",
    "\n",
    "# Calculate the average from each scan, and add the column of average sepaations\n",
    "Results['Average'] = []\n",
    "\n",
    "# Add a column of the expected separations.  See the experiment instructions for values.\n",
    "Results['Expected (MHz)'] = []\n",
    "\n",
    "# Show the completed table\n",
    "Results"
   ]
  },
  {
   "cell_type": "markdown",
   "metadata": {},
   "source": [
    "## Present final values\n",
    "\n",
    "The DataFrame tables have limited control over their formatting.  Assuming you have used the names provided, execute the following print commands to make a tbale with increased precision for comparison to expected results."
   ]
  },
  {
   "cell_type": "code",
   "execution_count": null,
   "metadata": {},
   "outputs": [],
   "source": [
    "print('\\n  Fine-structure line separation        |  Measured (MHz) |  Best known value (MHz)')\n",
    "print('----------------------------------------|-----------------|-------------------------')\n",
    "print('{:s} (Lamb shift) |   {:.2uP}       |   {:.0f}'.format(Results.iloc[0,0],Results['Average'][0],\n",
    "                                                             Results['Expected (MHz)'][0]))\n",
    "print('{:s}              |   {:.2uP}       |   {:.0f}'.format(Results.iloc[1,0],Results['Average'][1],\n",
    "                                                             Results['Expected (MHz)'][1]))\n",
    "print('{:s}              |   {:.2uP}       |   {:.0f}'.format(Results.iloc[2,0],Results['Average'][2],\n",
    "                                                             Results['Expected (MHz)'][2]))"
   ]
  }
 ],
 "metadata": {
  "kernelspec": {
   "display_name": "Python 3 (ipykernel)",
   "language": "python",
   "name": "python3"
  },
  "language_info": {
   "codemirror_mode": {
    "name": "ipython",
    "version": 3
   },
   "file_extension": ".py",
   "mimetype": "text/x-python",
   "name": "python",
   "nbconvert_exporter": "python",
   "pygments_lexer": "ipython3",
   "version": "3.9.13"
  }
 },
 "nbformat": 4,
 "nbformat_minor": 2
}
